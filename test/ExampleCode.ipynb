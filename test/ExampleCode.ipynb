{
 "cells": [
  {
   "cell_type": "markdown",
   "id": "e7d4bb6a-efc0-435e-8b21-0817bd54a620",
   "metadata": {
    "pycharm": {
     "name": "#%% md\n"
    }
   },
   "source": [
    "# Überschrift"
   ]
  },
  {
   "cell_type": "markdown",
   "id": "a592f231",
   "metadata": {
    "pycharm": {
     "name": "#%% md\n"
    }
   },
   "source": [
    "Unnötig langer Text..."
   ]
  },
  {
   "cell_type": "code",
   "execution_count": null,
   "id": "4bcb87b6-83c1-4e7b-b766-a070b0846440",
   "metadata": {
    "pycharm": {
     "name": "#%%\n"
    }
   },
   "outputs": [],
   "source": [
    "#jp-practice\n",
    "a = 'practice'"
   ]
  },
  {
   "cell_type": "code",
   "execution_count": null,
   "id": "91eccec1-edb4-4b49-b470-fb31b3b7fc84",
   "metadata": {
    "pycharm": {
     "name": "#%%\n"
    }
   },
   "outputs": [],
   "source": [
    "#jp-solution\n",
    "a = 'solution'"
   ]
  },
  {
   "cell_type": "code",
   "execution_count": null,
   "id": "76e65cbd-5187-4360-b005-ed2376d08c09",
   "metadata": {
    "pycharm": {
     "name": "#%%\n"
    }
   },
   "outputs": [],
   "source": [
    "#jp-practice\n",
    "#jp-solution\n",
    "b = a"
   ]
  },
  {
   "cell_type": "markdown",
   "id": "9e4e3fd3",
   "metadata": {
    "pycharm": {
     "name": "#%% md\n"
    }
   },
   "source": [
    "Eine leere Zelle zwischendurch:"
   ]
  },
  {
   "cell_type": "code",
   "execution_count": null,
   "id": "735271c4",
   "metadata": {
    "pycharm": {
     "name": "#%%\n"
    }
   },
   "outputs": [],
   "source": []
  },
  {
   "cell_type": "markdown",
   "id": "219ab3a9",
   "metadata": {
    "pycharm": {
     "name": "#%% md\n"
    }
   },
   "source": [
    "Zwischentext..."
   ]
  },
  {
   "cell_type": "code",
   "execution_count": null,
   "id": "b92053c6-a6d0-49a0-b204-b2c1d4251f34",
   "metadata": {
    "pycharm": {
     "name": "#%%\n"
    }
   },
   "outputs": [],
   "source": [
    "#jp-teaching\n",
    "c = a"
   ]
  },
  {
   "cell_type": "code",
   "execution_count": null,
   "id": "b92053c6-a6d0-49a0-b204-b2c1d4251f33",
   "metadata": {
    "pycharm": {
     "name": "#%%\n"
    }
   },
   "outputs": [],
   "source": [
    "#jp-solution\n",
    "#jp-practice\n",
    "d = a"
   ]
  },
  {
   "cell_type": "code",
   "execution_count": null,
   "id": "ebc4b836-9ae5-4183-bc8c-0ee2993cd625",
   "metadata": {
    "pycharm": {
     "name": "#%%\n"
    }
   },
   "outputs": [],
   "source": [
    "e = a"
   ]
  },
  {
   "cell_type": "markdown",
   "id": "13d55537",
   "metadata": {
    "pycharm": {
     "name": "#%% md\n"
    }
   },
   "source": [
    "Und eine leere Zelle zum Schluss:"
   ]
  },
  {
   "cell_type": "code",
   "execution_count": null,
   "id": "35d3b8b1",
   "metadata": {
    "pycharm": {
     "name": "#%%\n"
    }
   },
   "outputs": [],
   "source": [
    "#jp-practice\n"
   ]
  },
  {
   "cell_type": "code",
   "execution_count": null,
   "id": "9e0c48a6",
   "metadata": {
    "pycharm": {
     "name": "#%%\n"
    }
   },
   "outputs": [],
   "source": [
    "#jp-practice\n",
    "#jp-readonly\n",
    "y = 'readonly'"
   ]
  },
  {
   "cell_type": "code",
   "execution_count": null,
   "id": "19997ed1",
   "metadata": {
    "pycharm": {
     "name": "#%%\n"
    }
   },
   "outputs": [],
   "source": [
    "#jp-practice-ro\n",
    "z = 'readonly'"
   ]
  },
  {
   "cell_type": "markdown",
   "id": "886a9e52",
   "metadata": {},
   "source": [
    "Das ganze nochmal über Tags:"
   ]
  },
  {
   "cell_type": "code",
   "execution_count": null,
   "id": "985e0266",
   "metadata": {
    "tags": [
     "jp-practice",
     "other-tag"
    ]
   },
   "outputs": [],
   "source": [
    "a = 'practice'"
   ]
  },
  {
   "cell_type": "code",
   "execution_count": null,
   "id": "12d4b4ec",
   "metadata": {
    "tags": [
     "jp-solution",
     "other-tag"
    ]
   },
   "outputs": [],
   "source": [
    "a = 'solution'"
   ]
  },
  {
   "cell_type": "code",
   "execution_count": null,
   "id": "eb1d1816",
   "metadata": {
    "tags": [
     "jp-teaching",
     "other-tag"
    ]
   },
   "outputs": [],
   "source": [
    "a = 'teaching'"
   ]
  },
  {
   "cell_type": "code",
   "execution_count": null,
   "id": "065dd2cf",
   "metadata": {
    "tags": [
     "jp-practice",
     "jp-solution",
     "other-tag",
     "jp-teaching"
    ]
   },
   "outputs": [],
   "source": [
    "b = a"
   ]
  },
  {
   "cell_type": "code",
   "execution_count": null,
   "id": "d155a8a3",
   "metadata": {
    "tags": [
     "jp-practice",
     "jp-readonly",
     "other-tag"
    ]
   },
   "outputs": [],
   "source": [
    "y = 'readonly'"
   ]
  },
  {
   "cell_type": "code",
   "execution_count": null,
   "id": "7b4ebacb",
   "metadata": {
    "tags": [
     "jp-practice-ro",
     "other-tag"
    ]
   },
   "outputs": [],
   "source": [
    "z = 'readonly'"
   ]
  }
 ],
 "metadata": {
  "celltoolbar": "Tags",
  "kernelspec": {
   "display_name": "Python 3 (ipykernel)",
   "language": "python",
   "name": "python3"
  },
  "language_info": {
   "codemirror_mode": {
    "name": "ipython",
    "version": 3
   },
   "file_extension": ".py",
   "mimetype": "text/x-python",
   "name": "python",
   "nbconvert_exporter": "python",
   "pygments_lexer": "ipython3",
   "version": "3.10.6"
  }
 },
 "nbformat": 4,
 "nbformat_minor": 5
}
