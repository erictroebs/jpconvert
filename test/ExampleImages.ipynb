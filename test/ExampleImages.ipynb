{
 "cells": [
  {
   "cell_type": "markdown",
   "id": "42ddeeb9",
   "metadata": {},
   "source": [
    "# ExampleImages\n",
    "![png description](example.png)"
   ]
  },
  {
   "cell_type": "markdown",
   "id": "8067b5b3",
   "metadata": {},
   "source": [
    "Test\n",
    "![jpeg description](example.jpg)"
   ]
  },
  {
   "cell_type": "markdown",
   "id": "d3705dbf",
   "metadata": {},
   "source": [
    "![url description](https://picsum.photos/id/1024/300/200)"
   ]
  },
  {
   "cell_type": "markdown",
   "id": "de860179",
   "metadata": {},
   "source": [
    "Inline test with ![image](example.png) from the first cell."
   ]
  },
  {
   "cell_type": "markdown",
   "id": "de860180",
   "metadata": {},
   "source": [
    "Inline test with![image](example.png)missing spaces."
   ]
  },
  {
   "cell_type": "markdown",
   "id": "de860181",
   "metadata": {},
   "source": [
    "Two images in the same cell\n",
    "![jpeg description](example.jpg)\n",
    "![jpeg description](example.png)"
   ]
  },
  {
   "cell_type": "markdown",
   "id": "de860182",
   "metadata": {},
   "source": [
    "Same images in the same cell\n",
    "![jpeg description](example.jpg)\n",
    "![jpeg description](example.jpg)"
   ]
  },
  {
   "cell_type": "markdown",
   "id": "de860183",
   "metadata": {},
   "source": [
    "Two images in one line\n",
    "text ![jpeg description](example.jpg) text ![jpeg description](example.png) text"
   ]
  }
 ],
 "metadata": {
  "kernelspec": {
   "display_name": "Python 3 (ipykernel)",
   "language": "python",
   "name": "python3"
  },
  "language_info": {
   "codemirror_mode": {
    "name": "ipython",
    "version": 3
   },
   "file_extension": ".py",
   "mimetype": "text/x-python",
   "name": "python",
   "nbconvert_exporter": "python",
   "pygments_lexer": "ipython3",
   "version": "3.8.10"
  }
 },
 "nbformat": 4,
 "nbformat_minor": 5
}
