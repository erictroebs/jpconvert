{
 "cells": [
  {
   "cell_type": "markdown",
   "id": "e7d4bb6a-efc0-435e-8b21-0817bd54a620",
   "metadata": {},
   "source": [
    "# Überschrift"
   ]
  },
  {
   "cell_type": "markdown",
   "id": "a592f231",
   "metadata": {},
   "source": [
    "Unnötig langer Text..."
   ]
  },
  {
   "cell_type": "code",
   "execution_count": null,
   "id": "4bcb87b6-83c1-4e7b-b766-a070b0846440",
   "metadata": {},
   "outputs": [],
   "source": [
    "#jp-practice\n",
    "a = 'practice'"
   ]
  },
  {
   "cell_type": "code",
   "execution_count": null,
   "id": "91eccec1-edb4-4b49-b470-fb31b3b7fc84",
   "metadata": {},
   "outputs": [],
   "source": [
    "#jp-solution\n",
    "a = 'solution'"
   ]
  },
  {
   "cell_type": "code",
   "execution_count": null,
   "id": "76e65cbd-5187-4360-b005-ed2376d08c09",
   "metadata": {},
   "outputs": [],
   "source": [
    "#jp-practice\n",
    "#jp-solution\n",
    "b = a"
   ]
  },
  {
   "cell_type": "markdown",
   "id": "9e4e3fd3",
   "metadata": {},
   "source": [
    "Eine leere Zelle zwischendurch:"
   ]
  },
  {
   "cell_type": "code",
   "execution_count": null,
   "id": "735271c4",
   "metadata": {},
   "outputs": [],
   "source": []
  },
  {
   "cell_type": "markdown",
   "id": "219ab3a9",
   "metadata": {},
   "source": [
    "Zwischentext..."
   ]
  },
  {
   "cell_type": "code",
   "execution_count": null,
   "id": "b92053c6-a6d0-49a0-b204-b2c1d4251f34",
   "metadata": {},
   "outputs": [],
   "source": [
    "#jp-teaching\n",
    "c = a"
   ]
  },
  {
   "cell_type": "code",
   "execution_count": null,
   "id": "b92053c6-a6d0-49a0-b204-b2c1d4251f33",
   "metadata": {},
   "outputs": [],
   "source": [
    "#jp-solution\n",
    "#jp-practice\n",
    "d = a"
   ]
  },
  {
   "cell_type": "code",
   "execution_count": null,
   "id": "ebc4b836-9ae5-4183-bc8c-0ee2993cd625",
   "metadata": {},
   "outputs": [],
   "source": [
    "e = a"
   ]
  },
  {
   "cell_type": "markdown",
   "id": "13d55537",
   "metadata": {},
   "source": [
    "Und eine leere Zelle zum Schluss:"
   ]
  },
  {
   "cell_type": "code",
   "execution_count": null,
   "id": "35d3b8b1",
   "metadata": {},
   "outputs": [],
   "source": []
  }
 ],
 "metadata": {
  "kernelspec": {
   "display_name": "Python 3 (ipykernel)",
   "language": "python",
   "name": "python3"
  },
  "language_info": {
   "codemirror_mode": {
    "name": "ipython",
    "version": 3
   },
   "file_extension": ".py",
   "mimetype": "text/x-python",
   "name": "python",
   "nbconvert_exporter": "python",
   "pygments_lexer": "ipython3",
   "version": "3.10.2"
  }
 },
 "nbformat": 4,
 "nbformat_minor": 5
}
