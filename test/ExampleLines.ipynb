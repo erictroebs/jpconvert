{
 "cells": [
  {
   "cell_type": "markdown",
   "id": "6f55c758",
   "metadata": {},
   "source": [
    "Cell with trailing spaces, tabs, etc:"
   ]
  },
  {
   "cell_type": "code",
   "execution_count": 1,
   "id": "cae1d6ec",
   "metadata": {},
   "outputs": [],
   "source": [
    "this = 1  \n",
    "my = 'code'\t"
   ]
  },
  {
   "cell_type": "markdown",
   "id": "93a2fbb9",
   "metadata": {},
   "source": [
    "Cell with trailing line:"
   ]
  },
  {
   "cell_type": "code",
   "execution_count": 2,
   "id": "0ca44033",
   "metadata": {},
   "outputs": [],
   "source": [
    "this = 1\n"
   ]
  },
  {
   "cell_type": "markdown",
   "id": "b3236401",
   "metadata": {},
   "source": [
    "Cell that gets removed after trailing line is removed:"
   ]
  },
  {
   "cell_type": "code",
   "execution_count": null,
   "id": "adb6081e",
   "metadata": {},
   "outputs": [],
   "source": [
    "\n"
   ]
  },
  {
   "cell_type": "markdown",
   "id": "afef21b7",
   "metadata": {},
   "source": [
    "Cells that get removed after trailing spaces, tabs, etc. are removed:"
   ]
  },
  {
   "cell_type": "code",
   "execution_count": null,
   "id": "363a5f7d",
   "metadata": {},
   "outputs": [],
   "source": [
    " "
   ]
  },
  {
   "cell_type": "code",
   "execution_count": null,
   "id": "3281deac",
   "metadata": {},
   "outputs": [],
   "source": [
    "\t"
   ]
  },
  {
   "cell_type": "markdown",
   "id": "69ee03b5",
   "metadata": {},
   "source": [
    "Cells that get removed after trailing spaces, tabs and lines are removed:"
   ]
  },
  {
   "cell_type": "code",
   "execution_count": null,
   "id": "52af35b7",
   "metadata": {},
   "outputs": [],
   "source": [
    " \n",
    " "
   ]
  },
  {
   "cell_type": "code",
   "execution_count": null,
   "id": "18d7701b",
   "metadata": {},
   "outputs": [],
   "source": [
    "\t\n",
    "\t"
   ]
  }
 ],
 "metadata": {
  "kernelspec": {
   "display_name": "Python 3 (ipykernel)",
   "language": "python",
   "name": "python3"
  },
  "language_info": {
   "codemirror_mode": {
    "name": "ipython",
    "version": 3
   },
   "file_extension": ".py",
   "mimetype": "text/x-python",
   "name": "python",
   "nbconvert_exporter": "python",
   "pygments_lexer": "ipython3",
   "version": "3.8.10"
  }
 },
 "nbformat": 4,
 "nbformat_minor": 5
}
